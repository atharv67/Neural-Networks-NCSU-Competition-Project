{
  "nbformat": 4,
  "nbformat_minor": 0,
  "metadata": {
    "colab": {
      "provenance": []
    },
    "kernelspec": {
      "name": "python3",
      "display_name": "Python 3"
    },
    "language_info": {
      "name": "python"
    },
    "accelerator": "GPU",
    "gpuClass": "standard"
  },
  "cells": [
    {
      "cell_type": "markdown",
      "source": [
        "**Importing Libraries**"
      ],
      "metadata": {
        "id": "8mP5WhQeKUE1"
      }
    },
    {
      "cell_type": "code",
      "execution_count": null,
      "metadata": {
        "id": "jtI2CDGu0-66"
      },
      "outputs": [],
      "source": [
        "import pandas as pd\n",
        "import tensorflow as tf\n",
        "import numpy as np\n",
        "import matplotlib.pyplot as plt\n",
        "import os\n",
        "import sklearn\n",
        "from google.colab import drive\n",
        "from sklearn.preprocessing import StandardScaler"
      ]
    },
    {
      "cell_type": "code",
      "source": [
        "from scipy import stats"
      ],
      "metadata": {
        "id": "HG6jwny7CXEV"
      },
      "execution_count": null,
      "outputs": []
    },
    {
      "cell_type": "code",
      "source": [
        "drive.mount('/content/drive')\n",
        "os.chdir('/content/drive/My Drive/Neural_Networks/ProjectC3/TrainingData')#Where the data is stored"
      ],
      "metadata": {
        "colab": {
          "base_uri": "https://localhost:8080/"
        },
        "id": "1nHOkLHf1Jm9",
        "outputId": "3b9ecd28-3eba-4597-8fcf-40a906415376"
      },
      "execution_count": null,
      "outputs": [
        {
          "output_type": "stream",
          "name": "stdout",
          "text": [
            "Drive already mounted at /content/drive; to attempt to forcibly remount, call drive.mount(\"/content/drive\", force_remount=True).\n"
          ]
        }
      ]
    },
    {
      "cell_type": "code",
      "source": [
        "window_size=30.  #setting window size for making data suitable for rnns"
      ],
      "metadata": {
        "id": "2ooTZ6YkBfLR"
      },
      "execution_count": 1,
      "outputs": []
    },
    {
      "cell_type": "code",
      "source": [
        "os.listdir()"
      ],
      "metadata": {
        "colab": {
          "base_uri": "https://localhost:8080/"
        },
        "id": "hwPU8wwc2VUF",
        "outputId": "0c5ecac4-2e4f-4948-8653-9a0690b38849"
      },
      "execution_count": null,
      "outputs": [
        {
          "output_type": "execute_result",
          "data": {
            "text/plain": [
              "['subject_007_04__y_time.csv',\n",
              " 'subject_001_01__y.csv',\n",
              " 'subject_001_02__y.csv',\n",
              " 'subject_001_07__y.csv',\n",
              " 'subject_001_03__x_time.csv',\n",
              " 'subject_001_08__y.csv',\n",
              " 'subject_001_03__y.csv',\n",
              " 'subject_001_05__y.csv',\n",
              " 'subject_001_05__y_time.csv',\n",
              " 'subject_001_03__y_time.csv',\n",
              " 'subject_001_08__y_time.csv',\n",
              " 'subject_001_07__y_time.csv',\n",
              " 'subject_001_08__x_time.csv',\n",
              " 'subject_001_02__y_time.csv',\n",
              " 'subject_001_01__x.csv',\n",
              " 'subject_001_04__y.csv',\n",
              " 'subject_001_04__y_time.csv',\n",
              " 'subject_001_04__x_time.csv',\n",
              " 'subject_001_05__x_time.csv',\n",
              " 'subject_001_01__x_time.csv',\n",
              " 'subject_001_06__x_time.csv',\n",
              " 'subject_001_06__y.csv',\n",
              " 'subject_001_06__y_time.csv',\n",
              " 'subject_001_07__x_time.csv',\n",
              " 'subject_001_06__x.csv',\n",
              " 'subject_001_01__y_time.csv',\n",
              " 'subject_001_02__x_time.csv',\n",
              " 'subject_001_05__x.csv',\n",
              " 'subject_001_03__x.csv',\n",
              " 'subject_001_04__x.csv',\n",
              " 'subject_001_07__x.csv',\n",
              " 'subject_001_08__x.csv',\n",
              " 'subject_002_01__y.csv',\n",
              " 'subject_002_01__y_time.csv',\n",
              " 'subject_002_01__x_time.csv',\n",
              " 'subject_002_02__y.csv',\n",
              " 'subject_002_02__y_time.csv',\n",
              " 'subject_002_05__y_time.csv',\n",
              " 'subject_002_03__y.csv',\n",
              " 'subject_002_02__x_time.csv',\n",
              " 'subject_002_04__y_time.csv',\n",
              " 'subject_002_03__y_time.csv',\n",
              " 'subject_002_04__x_time.csv',\n",
              " 'subject_002_04__y.csv',\n",
              " 'subject_002_05__x_time.csv',\n",
              " 'subject_002_05__y.csv',\n",
              " 'subject_002_03__x_time.csv',\n",
              " 'subject_002_04__x.csv',\n",
              " 'subject_002_01__x.csv',\n",
              " 'subject_002_03__x.csv',\n",
              " 'subject_002_05__x.csv',\n",
              " 'subject_001_02__x.csv',\n",
              " 'subject_002_02__x.csv',\n",
              " 'subject_003_03__y_time.csv',\n",
              " 'subject_003_01__x_time.csv',\n",
              " 'subject_003_01__x.csv',\n",
              " 'subject_003_01__y_time.csv',\n",
              " 'subject_003_01__y.csv',\n",
              " 'subject_003_03__x.csv',\n",
              " 'subject_003_02__x_time.csv',\n",
              " 'subject_003_02__y_time.csv',\n",
              " 'subject_003_03__y.csv',\n",
              " 'subject_003_02__y.csv',\n",
              " 'subject_003_03__x_time.csv',\n",
              " 'subject_003_02__x.csv',\n",
              " 'subject_004_01__x_time.csv',\n",
              " 'subject_004_01__y_time.csv',\n",
              " 'subject_004_01__y.csv',\n",
              " 'subject_004_02__y.csv',\n",
              " 'subject_004_02__x_time.csv',\n",
              " 'subject_004_02__y_time.csv',\n",
              " 'subject_004_01__x.csv',\n",
              " 'subject_005_01__y.csv',\n",
              " 'subject_005_01__y_time.csv',\n",
              " 'subject_005_01__x_time.csv',\n",
              " 'subject_005_02__x_time.csv',\n",
              " 'subject_004_02__x.csv',\n",
              " 'subject_005_02__y.csv',\n",
              " 'subject_005_03__x_time.csv',\n",
              " 'subject_005_03__y.csv',\n",
              " 'subject_005_02__y_time.csv',\n",
              " 'subject_005_03__y_time.csv',\n",
              " 'subject_005_02__x.csv',\n",
              " 'subject_005_01__x.csv',\n",
              " 'subject_005_03__x.csv',\n",
              " 'subject_006_03__y_time.csv',\n",
              " 'subject_006_01__x.csv',\n",
              " 'subject_006_02__x_time.csv',\n",
              " 'subject_006_01__y.csv',\n",
              " 'subject_006_01__x_time.csv',\n",
              " 'subject_006_01__y_time.csv',\n",
              " 'subject_006_02__y_time.csv',\n",
              " 'subject_006_02__y.csv',\n",
              " 'subject_006_02__x.csv',\n",
              " 'subject_006_03__x_time.csv',\n",
              " 'subject_006_03__y.csv',\n",
              " 'subject_006_03__x.csv',\n",
              " 'subject_007_04__y.csv',\n",
              " 'subject_007_01__y_time.csv',\n",
              " 'subject_007_01__y.csv',\n",
              " 'subject_007_01__x_time.csv',\n",
              " 'subject_007_01__x.csv',\n",
              " 'subject_007_02__x_time.csv',\n",
              " 'subject_007_02__y.csv',\n",
              " 'subject_007_02__y_time.csv',\n",
              " 'subject_007_03__y.csv',\n",
              " 'subject_007_03__x_time.csv',\n",
              " 'subject_007_03__y_time.csv',\n",
              " 'subject_007_03__x.csv',\n",
              " 'subject_007_02__x.csv',\n",
              " 'subject_007_04__x_time.csv',\n",
              " 'subject_007_04__x.csv',\n",
              " 'subject_008_01__y_time.csv',\n",
              " 'subject_008_01__y.csv',\n",
              " 'subject_008_01__x_time.csv',\n",
              " 'subject_008_01__x.csv',\n",
              " 'X_train.npy',\n",
              " 'y_train.npy',\n",
              " 'X_val.npy',\n",
              " 'y_val.npy',\n",
              " 'X_test.npy',\n",
              " 'y_test.npy',\n",
              " 'lstmModel']"
            ]
          },
          "metadata": {},
          "execution_count": 7
        }
      ]
    },
    {
      "cell_type": "code",
      "source": [
        "subjects=[str(i) for i in range(1,9)]\n",
        "sessions=[str(i) for i in range(1,9)]"
      ],
      "metadata": {
        "id": "X0hy-GZp2eGH"
      },
      "execution_count": null,
      "outputs": []
    },
    {
      "cell_type": "markdown",
      "source": [
        "Distributing the data"
      ],
      "metadata": {
        "id": "IsvNamdILOM0"
      }
    },
    {
      "cell_type": "code",
      "source": [
        "train_files=[[1,1],[1,2],[1,3],[1,4],[1,5],[1,6],[2,1],[2,2],[2,3],[3,1],[3,2],[3,3],[4,1],[4,2],[5,1],[5,2],[5,3],[6,1],[6,2],[6,3],[7,1],[7,2],[7,3],[8,1]]\n",
        "val_files=[[1,7],[2,4],[7,4]]\n",
        "test_files=[[1,8],[2,5]]"
      ],
      "metadata": {
        "id": "RJhnUXUI_meK"
      },
      "execution_count": null,
      "outputs": []
    },
    {
      "cell_type": "code",
      "source": [
        "# df_x=pd.read_csv('subject_001_01__x.csv',header=None,names=['acc.x','acc.y','acc.z','gyr.x','gyr.y','gyr.z'])\n",
        "# df_x_time=pd.read_csv('subject_001_01__x_time.csv',header=None,names=['timestamp'])\n",
        "# df_x=df_x.join(df_x_time)\n",
        "# df_y=pd.read_csv('subject_001_01__y.csv',header=None,names=['y'])\n",
        "# df_y_time=pd.read_csv('subject_001_01__y_time.csv',header=None,names=['timestamp'])\n",
        "# df_y=df_y.join(df_y_time)"
      ],
      "metadata": {
        "id": "HkcFtXqY2xUm"
      },
      "execution_count": null,
      "outputs": []
    },
    {
      "cell_type": "code",
      "source": [
        "# df_x.head(20)"
      ],
      "metadata": {
        "id": "G06p0cV324Ev"
      },
      "execution_count": null,
      "outputs": []
    },
    {
      "cell_type": "code",
      "source": [
        "# df_y[df_y.y==1]"
      ],
      "metadata": {
        "id": "m8x5tLzG3D5F"
      },
      "execution_count": null,
      "outputs": []
    },
    {
      "cell_type": "code",
      "source": [
        "fig, ax = plt.subplots()\n",
        "\n",
        "# Plot the data\n",
        "ax.plot(df_y['timestamp'][:10000],df_y['y'][:10000])"
      ],
      "metadata": {
        "id": "09sBgdWQ3F_h"
      },
      "execution_count": null,
      "outputs": []
    },
    {
      "cell_type": "code",
      "source": [
        "# df_y['y_timestamp']=df_y['timestamp']"
      ],
      "metadata": {
        "id": "ripD5lbv9zy0"
      },
      "execution_count": null,
      "outputs": []
    },
    {
      "cell_type": "code",
      "source": [
        "# merged_df = pd.merge_asof(df_x, df_y, on='timestamp', direction='nearest', allow_exact_matches=False, tolerance=0.06,suffixes=('_x', '_y'))\n"
      ],
      "metadata": {
        "id": "PiErzMxv4U9r"
      },
      "execution_count": null,
      "outputs": []
    },
    {
      "cell_type": "code",
      "source": [
        "# merged_df.shape"
      ],
      "metadata": {
        "id": "iSJEzGFE65R8"
      },
      "execution_count": null,
      "outputs": []
    },
    {
      "cell_type": "code",
      "source": [
        "# x_feat=merged_df.iloc[:,:6]"
      ],
      "metadata": {
        "id": "Gkk9dMAb66iD"
      },
      "execution_count": null,
      "outputs": []
    },
    {
      "cell_type": "code",
      "source": [
        "# value_counts=merged_df['y_timestamp'].value_counts()"
      ],
      "metadata": {
        "id": "wEdk06j4EuqC"
      },
      "execution_count": null,
      "outputs": []
    },
    {
      "cell_type": "code",
      "source": [
        "# value_counts"
      ],
      "metadata": {
        "id": "BRaPBTyuFjQG"
      },
      "execution_count": null,
      "outputs": []
    },
    {
      "cell_type": "code",
      "source": [
        "# filtered_values = value_counts[value_counts > 4].index"
      ],
      "metadata": {
        "id": "Cci9ibJeFC0d"
      },
      "execution_count": null,
      "outputs": []
    },
    {
      "cell_type": "code",
      "source": [
        "# len(filtered_values)"
      ],
      "metadata": {
        "id": "qd21lXWQFojN"
      },
      "execution_count": null,
      "outputs": []
    },
    {
      "cell_type": "code",
      "source": [
        "# merged_df[merged_df.y==1]"
      ],
      "metadata": {
        "id": "0zaXPkJrEJMe"
      },
      "execution_count": null,
      "outputs": []
    },
    {
      "cell_type": "code",
      "source": [
        "'''\n",
        "This function is used to merge X and Y data for each subject and session and return a merged Data Frame\n",
        "\n",
        "\n",
        "'''\n",
        "\n",
        "def getMergedDf(XFile,XTimeStampFile,YFile,YTimeStampFile):\n",
        "  print(\"Processing--\",XFile,\"--\",YFile)\n",
        "  df_x=pd.read_csv(XFile,header=None,names=['acc.x','acc.y','acc.z','gyr.x','gyr.y','gyr.z'])\n",
        "  df_x_time=pd.read_csv(XTimeStampFile,header=None,names=['timestamp'])\n",
        "  df_x=df_x.join(df_x_time)\n",
        "  df_y=pd.read_csv(YFile,header=None,names=['y'])\n",
        "  df_y_time=pd.read_csv(YTimeStampFile,header=None,names=['timestamp'])\n",
        "  df_y=df_y.join(df_y_time)\n",
        "  df_y['y_timestamp']=df_y['timestamp']\n",
        "  merged_df = pd.merge_asof(df_x, df_y, on='timestamp', direction='nearest', allow_exact_matches=False, tolerance=0.06,suffixes=('_x', '_y'))\n",
        "  value_counts=merged_df['y_timestamp'].value_counts()\n",
        "  #filtered_values = value_counts[value_counts < 4].index\n",
        "  #print(len(filtered_values))\n",
        "  return merged_df"
      ],
      "metadata": {
        "id": "1yD2N3-qF91o"
      },
      "execution_count": null,
      "outputs": []
    },
    {
      "cell_type": "code",
      "source": [
        "'''\n",
        "It takes the current X and Y arrays and the merged dataframe and appends the current dataframe \n",
        "to the X and Y arrays while making the data sutable for RNN input\n",
        "'''\n",
        "def getData(merged_df,X_arr,y_arr):\n",
        "  x_feat=merged_df.iloc[:,:6]\n",
        "  for i in range(len(merged_df)-window_size):\n",
        "    x_values=x_feat.iloc[i:i+window_size,:].values\n",
        "    y_labels=merged_df.iloc[i:i+window_size,-2].values\n",
        "    # print(x_values)\n",
        "    # print(y_labels)\n",
        "    X_arr.append(x_values)\n",
        "    y_arr.append(stats.mode(y_labels)[0][0])"
      ],
      "metadata": {
        "id": "nhuOUThaF9wW"
      },
      "execution_count": null,
      "outputs": []
    },
    {
      "cell_type": "code",
      "source": [
        "# x_output=[]\n",
        "# y=[]\n",
        "# for i in range(len(merged_df)-window_size):\n",
        "#   x_values=x_feat.iloc[i:i+window_size,:].values\n",
        "#   y_labels=merged_df.iloc[i:i+window_size,-2].values\n",
        "#   print(x_values)\n",
        "#   print(y_labels)\n",
        "#   x_output.append(x_values)\n",
        "#   y.append(stats.mode(y_labels)[0][0])"
      ],
      "metadata": {
        "id": "zyI78lWsAn5C"
      },
      "execution_count": null,
      "outputs": []
    },
    {
      "cell_type": "code",
      "source": [
        "# x_arr=np.array(x_output)\n",
        "# y_arr=np.array(y)"
      ],
      "metadata": {
        "id": "dmyn2vJ3AYpx"
      },
      "execution_count": null,
      "outputs": []
    },
    {
      "cell_type": "code",
      "source": [
        "# y"
      ],
      "metadata": {
        "id": "r0bfOp5QDSH1"
      },
      "execution_count": null,
      "outputs": []
    },
    {
      "cell_type": "code",
      "source": [
        "# x_arr.shape"
      ],
      "metadata": {
        "id": "HNgj7EtLAZR1"
      },
      "execution_count": null,
      "outputs": []
    },
    {
      "cell_type": "code",
      "source": [
        "# y_arr"
      ],
      "metadata": {
        "id": "wMKZ7rr1C9ob"
      },
      "execution_count": null,
      "outputs": []
    },
    {
      "cell_type": "code",
      "source": [
        "'''\n",
        "Loops through the files and returns X and Y arrays\n",
        "\n",
        "\n",
        "'''\n",
        "def getXY(files):\n",
        "  print(files)\n",
        "  X_arr=[]\n",
        "  y_arr=[]\n",
        "  print(len(X_arr))\n",
        "  print(len(y_arr))\n",
        "  for file in files:\n",
        "    print(file)\n",
        "    try:\n",
        "      XFile='subject_00'+str(file[0])+'_0'+str(file[1])+'__x.csv'\n",
        "      XTimestampFile='subject_00'+str(file[0])+'_0'+str(file[1])+'__x_time.csv'\n",
        "      YFile='subject_00'+str(file[0])+'_0'+str(file[1])+'__y.csv'\n",
        "      YTimestampFile='subject_00'+str(file[0])+'_0'+str(file[1])+'__y_time.csv'\n",
        "      merged_df=getMergedDf(XFile=XFile,XTimeStampFile=XTimestampFile,YFile=YFile,YTimeStampFile=YTimestampFile)\n",
        "      prev=len(X_arr)\n",
        "      getData(merged_df,X_arr,y_arr)\n",
        "      assert len(X_arr)-prev==len(merged_df)-window_size\n",
        "      assert len(y_arr)-prev==len(merged_df)-window_size\n",
        "    except Exception as e:\n",
        "      print(e)\n",
        "  return np.array(X_arr),np.array(y_arr)\n",
        "      # print('File with subject:',subject,' session:',session,' not found')"
      ],
      "metadata": {
        "id": "SosxvG6RDDzA"
      },
      "execution_count": null,
      "outputs": []
    },
    {
      "cell_type": "code",
      "source": [
        "#Creating the datasets\n",
        "X_train,y_train=getXY(train_files)\n",
        "X_val,y_val=getXY(val_files)\n",
        "X_test,y_test=getXY(test_files)"
      ],
      "metadata": {
        "colab": {
          "base_uri": "https://localhost:8080/"
        },
        "id": "MdlJYoOZCkQf",
        "outputId": "fe1b6cd6-f908-4a53-8ad8-2b7c82f2f450"
      },
      "execution_count": null,
      "outputs": [
        {
          "output_type": "stream",
          "name": "stdout",
          "text": [
            "[[1, 1], [1, 2], [1, 3], [1, 4], [1, 5], [1, 6], [2, 1], [2, 2], [2, 3], [3, 1], [3, 2], [3, 3], [4, 1], [4, 2], [5, 1], [5, 2], [5, 3], [6, 1], [6, 2], [6, 3], [7, 1], [7, 2], [7, 3], [8, 1]]\n",
            "0\n",
            "0\n",
            "[1, 1]\n",
            "Processing-- subject_001_01__x.csv -- subject_001_01__y.csv\n"
          ]
        },
        {
          "output_type": "stream",
          "name": "stderr",
          "text": [
            "<ipython-input-15-d61d2966bded>:9: FutureWarning: Unlike other reduction functions (e.g. `skew`, `kurtosis`), the default behavior of `mode` typically preserves the axis it acts along. In SciPy 1.11.0, this behavior will change: the default value of `keepdims` will become False, the `axis` over which the statistic is taken will be eliminated, and the value None will no longer be accepted. Set `keepdims` to True or False to avoid this warning.\n",
            "  y_arr.append(stats.mode(y_labels)[0][0])\n"
          ]
        },
        {
          "output_type": "stream",
          "name": "stdout",
          "text": [
            "[1, 2]\n",
            "Processing-- subject_001_02__x.csv -- subject_001_02__y.csv\n"
          ]
        },
        {
          "output_type": "stream",
          "name": "stderr",
          "text": [
            "<ipython-input-15-d61d2966bded>:9: FutureWarning: Unlike other reduction functions (e.g. `skew`, `kurtosis`), the default behavior of `mode` typically preserves the axis it acts along. In SciPy 1.11.0, this behavior will change: the default value of `keepdims` will become False, the `axis` over which the statistic is taken will be eliminated, and the value None will no longer be accepted. Set `keepdims` to True or False to avoid this warning.\n",
            "  y_arr.append(stats.mode(y_labels)[0][0])\n"
          ]
        },
        {
          "output_type": "stream",
          "name": "stdout",
          "text": [
            "[1, 3]\n",
            "Processing-- subject_001_03__x.csv -- subject_001_03__y.csv\n"
          ]
        },
        {
          "output_type": "stream",
          "name": "stderr",
          "text": [
            "<ipython-input-15-d61d2966bded>:9: FutureWarning: Unlike other reduction functions (e.g. `skew`, `kurtosis`), the default behavior of `mode` typically preserves the axis it acts along. In SciPy 1.11.0, this behavior will change: the default value of `keepdims` will become False, the `axis` over which the statistic is taken will be eliminated, and the value None will no longer be accepted. Set `keepdims` to True or False to avoid this warning.\n",
            "  y_arr.append(stats.mode(y_labels)[0][0])\n"
          ]
        },
        {
          "output_type": "stream",
          "name": "stdout",
          "text": [
            "[1, 4]\n",
            "Processing-- subject_001_04__x.csv -- subject_001_04__y.csv\n"
          ]
        },
        {
          "output_type": "stream",
          "name": "stderr",
          "text": [
            "<ipython-input-15-d61d2966bded>:9: FutureWarning: Unlike other reduction functions (e.g. `skew`, `kurtosis`), the default behavior of `mode` typically preserves the axis it acts along. In SciPy 1.11.0, this behavior will change: the default value of `keepdims` will become False, the `axis` over which the statistic is taken will be eliminated, and the value None will no longer be accepted. Set `keepdims` to True or False to avoid this warning.\n",
            "  y_arr.append(stats.mode(y_labels)[0][0])\n"
          ]
        },
        {
          "output_type": "stream",
          "name": "stdout",
          "text": [
            "[1, 5]\n",
            "Processing-- subject_001_05__x.csv -- subject_001_05__y.csv\n"
          ]
        },
        {
          "output_type": "stream",
          "name": "stderr",
          "text": [
            "<ipython-input-15-d61d2966bded>:9: FutureWarning: Unlike other reduction functions (e.g. `skew`, `kurtosis`), the default behavior of `mode` typically preserves the axis it acts along. In SciPy 1.11.0, this behavior will change: the default value of `keepdims` will become False, the `axis` over which the statistic is taken will be eliminated, and the value None will no longer be accepted. Set `keepdims` to True or False to avoid this warning.\n",
            "  y_arr.append(stats.mode(y_labels)[0][0])\n"
          ]
        },
        {
          "output_type": "stream",
          "name": "stdout",
          "text": [
            "[1, 6]\n",
            "Processing-- subject_001_06__x.csv -- subject_001_06__y.csv\n"
          ]
        },
        {
          "output_type": "stream",
          "name": "stderr",
          "text": [
            "<ipython-input-15-d61d2966bded>:9: FutureWarning: Unlike other reduction functions (e.g. `skew`, `kurtosis`), the default behavior of `mode` typically preserves the axis it acts along. In SciPy 1.11.0, this behavior will change: the default value of `keepdims` will become False, the `axis` over which the statistic is taken will be eliminated, and the value None will no longer be accepted. Set `keepdims` to True or False to avoid this warning.\n",
            "  y_arr.append(stats.mode(y_labels)[0][0])\n"
          ]
        },
        {
          "output_type": "stream",
          "name": "stdout",
          "text": [
            "[2, 1]\n",
            "Processing-- subject_002_01__x.csv -- subject_002_01__y.csv\n"
          ]
        },
        {
          "output_type": "stream",
          "name": "stderr",
          "text": [
            "<ipython-input-15-d61d2966bded>:9: FutureWarning: Unlike other reduction functions (e.g. `skew`, `kurtosis`), the default behavior of `mode` typically preserves the axis it acts along. In SciPy 1.11.0, this behavior will change: the default value of `keepdims` will become False, the `axis` over which the statistic is taken will be eliminated, and the value None will no longer be accepted. Set `keepdims` to True or False to avoid this warning.\n",
            "  y_arr.append(stats.mode(y_labels)[0][0])\n"
          ]
        },
        {
          "output_type": "stream",
          "name": "stdout",
          "text": [
            "[2, 2]\n",
            "Processing-- subject_002_02__x.csv -- subject_002_02__y.csv\n"
          ]
        },
        {
          "output_type": "stream",
          "name": "stderr",
          "text": [
            "<ipython-input-15-d61d2966bded>:9: FutureWarning: Unlike other reduction functions (e.g. `skew`, `kurtosis`), the default behavior of `mode` typically preserves the axis it acts along. In SciPy 1.11.0, this behavior will change: the default value of `keepdims` will become False, the `axis` over which the statistic is taken will be eliminated, and the value None will no longer be accepted. Set `keepdims` to True or False to avoid this warning.\n",
            "  y_arr.append(stats.mode(y_labels)[0][0])\n"
          ]
        },
        {
          "output_type": "stream",
          "name": "stdout",
          "text": [
            "[2, 3]\n",
            "Processing-- subject_002_03__x.csv -- subject_002_03__y.csv\n"
          ]
        },
        {
          "output_type": "stream",
          "name": "stderr",
          "text": [
            "<ipython-input-15-d61d2966bded>:9: FutureWarning: Unlike other reduction functions (e.g. `skew`, `kurtosis`), the default behavior of `mode` typically preserves the axis it acts along. In SciPy 1.11.0, this behavior will change: the default value of `keepdims` will become False, the `axis` over which the statistic is taken will be eliminated, and the value None will no longer be accepted. Set `keepdims` to True or False to avoid this warning.\n",
            "  y_arr.append(stats.mode(y_labels)[0][0])\n"
          ]
        },
        {
          "output_type": "stream",
          "name": "stdout",
          "text": [
            "[3, 1]\n",
            "Processing-- subject_003_01__x.csv -- subject_003_01__y.csv\n"
          ]
        },
        {
          "output_type": "stream",
          "name": "stderr",
          "text": [
            "<ipython-input-15-d61d2966bded>:9: FutureWarning: Unlike other reduction functions (e.g. `skew`, `kurtosis`), the default behavior of `mode` typically preserves the axis it acts along. In SciPy 1.11.0, this behavior will change: the default value of `keepdims` will become False, the `axis` over which the statistic is taken will be eliminated, and the value None will no longer be accepted. Set `keepdims` to True or False to avoid this warning.\n",
            "  y_arr.append(stats.mode(y_labels)[0][0])\n"
          ]
        },
        {
          "output_type": "stream",
          "name": "stdout",
          "text": [
            "[3, 2]\n",
            "Processing-- subject_003_02__x.csv -- subject_003_02__y.csv\n"
          ]
        },
        {
          "output_type": "stream",
          "name": "stderr",
          "text": [
            "<ipython-input-15-d61d2966bded>:9: FutureWarning: Unlike other reduction functions (e.g. `skew`, `kurtosis`), the default behavior of `mode` typically preserves the axis it acts along. In SciPy 1.11.0, this behavior will change: the default value of `keepdims` will become False, the `axis` over which the statistic is taken will be eliminated, and the value None will no longer be accepted. Set `keepdims` to True or False to avoid this warning.\n",
            "  y_arr.append(stats.mode(y_labels)[0][0])\n"
          ]
        },
        {
          "output_type": "stream",
          "name": "stdout",
          "text": [
            "[3, 3]\n",
            "Processing-- subject_003_03__x.csv -- subject_003_03__y.csv\n"
          ]
        },
        {
          "output_type": "stream",
          "name": "stderr",
          "text": [
            "<ipython-input-15-d61d2966bded>:9: FutureWarning: Unlike other reduction functions (e.g. `skew`, `kurtosis`), the default behavior of `mode` typically preserves the axis it acts along. In SciPy 1.11.0, this behavior will change: the default value of `keepdims` will become False, the `axis` over which the statistic is taken will be eliminated, and the value None will no longer be accepted. Set `keepdims` to True or False to avoid this warning.\n",
            "  y_arr.append(stats.mode(y_labels)[0][0])\n"
          ]
        },
        {
          "output_type": "stream",
          "name": "stdout",
          "text": [
            "[4, 1]\n",
            "Processing-- subject_004_01__x.csv -- subject_004_01__y.csv\n"
          ]
        },
        {
          "output_type": "stream",
          "name": "stderr",
          "text": [
            "<ipython-input-15-d61d2966bded>:9: FutureWarning: Unlike other reduction functions (e.g. `skew`, `kurtosis`), the default behavior of `mode` typically preserves the axis it acts along. In SciPy 1.11.0, this behavior will change: the default value of `keepdims` will become False, the `axis` over which the statistic is taken will be eliminated, and the value None will no longer be accepted. Set `keepdims` to True or False to avoid this warning.\n",
            "  y_arr.append(stats.mode(y_labels)[0][0])\n"
          ]
        },
        {
          "output_type": "stream",
          "name": "stdout",
          "text": [
            "[4, 2]\n",
            "Processing-- subject_004_02__x.csv -- subject_004_02__y.csv\n"
          ]
        },
        {
          "output_type": "stream",
          "name": "stderr",
          "text": [
            "<ipython-input-15-d61d2966bded>:9: FutureWarning: Unlike other reduction functions (e.g. `skew`, `kurtosis`), the default behavior of `mode` typically preserves the axis it acts along. In SciPy 1.11.0, this behavior will change: the default value of `keepdims` will become False, the `axis` over which the statistic is taken will be eliminated, and the value None will no longer be accepted. Set `keepdims` to True or False to avoid this warning.\n",
            "  y_arr.append(stats.mode(y_labels)[0][0])\n"
          ]
        },
        {
          "output_type": "stream",
          "name": "stdout",
          "text": [
            "[5, 1]\n",
            "Processing-- subject_005_01__x.csv -- subject_005_01__y.csv\n"
          ]
        },
        {
          "output_type": "stream",
          "name": "stderr",
          "text": [
            "<ipython-input-15-d61d2966bded>:9: FutureWarning: Unlike other reduction functions (e.g. `skew`, `kurtosis`), the default behavior of `mode` typically preserves the axis it acts along. In SciPy 1.11.0, this behavior will change: the default value of `keepdims` will become False, the `axis` over which the statistic is taken will be eliminated, and the value None will no longer be accepted. Set `keepdims` to True or False to avoid this warning.\n",
            "  y_arr.append(stats.mode(y_labels)[0][0])\n"
          ]
        },
        {
          "output_type": "stream",
          "name": "stdout",
          "text": [
            "[5, 2]\n",
            "Processing-- subject_005_02__x.csv -- subject_005_02__y.csv\n"
          ]
        },
        {
          "output_type": "stream",
          "name": "stderr",
          "text": [
            "<ipython-input-15-d61d2966bded>:9: FutureWarning: Unlike other reduction functions (e.g. `skew`, `kurtosis`), the default behavior of `mode` typically preserves the axis it acts along. In SciPy 1.11.0, this behavior will change: the default value of `keepdims` will become False, the `axis` over which the statistic is taken will be eliminated, and the value None will no longer be accepted. Set `keepdims` to True or False to avoid this warning.\n",
            "  y_arr.append(stats.mode(y_labels)[0][0])\n"
          ]
        },
        {
          "output_type": "stream",
          "name": "stdout",
          "text": [
            "[5, 3]\n",
            "Processing-- subject_005_03__x.csv -- subject_005_03__y.csv\n"
          ]
        },
        {
          "output_type": "stream",
          "name": "stderr",
          "text": [
            "<ipython-input-15-d61d2966bded>:9: FutureWarning: Unlike other reduction functions (e.g. `skew`, `kurtosis`), the default behavior of `mode` typically preserves the axis it acts along. In SciPy 1.11.0, this behavior will change: the default value of `keepdims` will become False, the `axis` over which the statistic is taken will be eliminated, and the value None will no longer be accepted. Set `keepdims` to True or False to avoid this warning.\n",
            "  y_arr.append(stats.mode(y_labels)[0][0])\n"
          ]
        },
        {
          "output_type": "stream",
          "name": "stdout",
          "text": [
            "[6, 1]\n",
            "Processing-- subject_006_01__x.csv -- subject_006_01__y.csv\n"
          ]
        },
        {
          "output_type": "stream",
          "name": "stderr",
          "text": [
            "<ipython-input-15-d61d2966bded>:9: FutureWarning: Unlike other reduction functions (e.g. `skew`, `kurtosis`), the default behavior of `mode` typically preserves the axis it acts along. In SciPy 1.11.0, this behavior will change: the default value of `keepdims` will become False, the `axis` over which the statistic is taken will be eliminated, and the value None will no longer be accepted. Set `keepdims` to True or False to avoid this warning.\n",
            "  y_arr.append(stats.mode(y_labels)[0][0])\n"
          ]
        },
        {
          "output_type": "stream",
          "name": "stdout",
          "text": [
            "[6, 2]\n",
            "Processing-- subject_006_02__x.csv -- subject_006_02__y.csv\n"
          ]
        },
        {
          "output_type": "stream",
          "name": "stderr",
          "text": [
            "<ipython-input-15-d61d2966bded>:9: FutureWarning: Unlike other reduction functions (e.g. `skew`, `kurtosis`), the default behavior of `mode` typically preserves the axis it acts along. In SciPy 1.11.0, this behavior will change: the default value of `keepdims` will become False, the `axis` over which the statistic is taken will be eliminated, and the value None will no longer be accepted. Set `keepdims` to True or False to avoid this warning.\n",
            "  y_arr.append(stats.mode(y_labels)[0][0])\n"
          ]
        },
        {
          "output_type": "stream",
          "name": "stdout",
          "text": [
            "[6, 3]\n",
            "Processing-- subject_006_03__x.csv -- subject_006_03__y.csv\n"
          ]
        },
        {
          "output_type": "stream",
          "name": "stderr",
          "text": [
            "<ipython-input-15-d61d2966bded>:9: FutureWarning: Unlike other reduction functions (e.g. `skew`, `kurtosis`), the default behavior of `mode` typically preserves the axis it acts along. In SciPy 1.11.0, this behavior will change: the default value of `keepdims` will become False, the `axis` over which the statistic is taken will be eliminated, and the value None will no longer be accepted. Set `keepdims` to True or False to avoid this warning.\n",
            "  y_arr.append(stats.mode(y_labels)[0][0])\n"
          ]
        },
        {
          "output_type": "stream",
          "name": "stdout",
          "text": [
            "[7, 1]\n",
            "Processing-- subject_007_01__x.csv -- subject_007_01__y.csv\n"
          ]
        },
        {
          "output_type": "stream",
          "name": "stderr",
          "text": [
            "<ipython-input-15-d61d2966bded>:9: FutureWarning: Unlike other reduction functions (e.g. `skew`, `kurtosis`), the default behavior of `mode` typically preserves the axis it acts along. In SciPy 1.11.0, this behavior will change: the default value of `keepdims` will become False, the `axis` over which the statistic is taken will be eliminated, and the value None will no longer be accepted. Set `keepdims` to True or False to avoid this warning.\n",
            "  y_arr.append(stats.mode(y_labels)[0][0])\n"
          ]
        },
        {
          "output_type": "stream",
          "name": "stdout",
          "text": [
            "[7, 2]\n",
            "Processing-- subject_007_02__x.csv -- subject_007_02__y.csv\n"
          ]
        },
        {
          "output_type": "stream",
          "name": "stderr",
          "text": [
            "<ipython-input-15-d61d2966bded>:9: FutureWarning: Unlike other reduction functions (e.g. `skew`, `kurtosis`), the default behavior of `mode` typically preserves the axis it acts along. In SciPy 1.11.0, this behavior will change: the default value of `keepdims` will become False, the `axis` over which the statistic is taken will be eliminated, and the value None will no longer be accepted. Set `keepdims` to True or False to avoid this warning.\n",
            "  y_arr.append(stats.mode(y_labels)[0][0])\n"
          ]
        },
        {
          "output_type": "stream",
          "name": "stdout",
          "text": [
            "[7, 3]\n",
            "Processing-- subject_007_03__x.csv -- subject_007_03__y.csv\n"
          ]
        },
        {
          "output_type": "stream",
          "name": "stderr",
          "text": [
            "<ipython-input-15-d61d2966bded>:9: FutureWarning: Unlike other reduction functions (e.g. `skew`, `kurtosis`), the default behavior of `mode` typically preserves the axis it acts along. In SciPy 1.11.0, this behavior will change: the default value of `keepdims` will become False, the `axis` over which the statistic is taken will be eliminated, and the value None will no longer be accepted. Set `keepdims` to True or False to avoid this warning.\n",
            "  y_arr.append(stats.mode(y_labels)[0][0])\n"
          ]
        },
        {
          "output_type": "stream",
          "name": "stdout",
          "text": [
            "[8, 1]\n",
            "Processing-- subject_008_01__x.csv -- subject_008_01__y.csv\n"
          ]
        },
        {
          "output_type": "stream",
          "name": "stderr",
          "text": [
            "<ipython-input-15-d61d2966bded>:9: FutureWarning: Unlike other reduction functions (e.g. `skew`, `kurtosis`), the default behavior of `mode` typically preserves the axis it acts along. In SciPy 1.11.0, this behavior will change: the default value of `keepdims` will become False, the `axis` over which the statistic is taken will be eliminated, and the value None will no longer be accepted. Set `keepdims` to True or False to avoid this warning.\n",
            "  y_arr.append(stats.mode(y_labels)[0][0])\n"
          ]
        },
        {
          "output_type": "stream",
          "name": "stdout",
          "text": [
            "[[1, 7], [2, 4], [7, 4]]\n",
            "0\n",
            "0\n",
            "[1, 7]\n",
            "Processing-- subject_001_07__x.csv -- subject_001_07__y.csv\n"
          ]
        },
        {
          "output_type": "stream",
          "name": "stderr",
          "text": [
            "<ipython-input-15-d61d2966bded>:9: FutureWarning: Unlike other reduction functions (e.g. `skew`, `kurtosis`), the default behavior of `mode` typically preserves the axis it acts along. In SciPy 1.11.0, this behavior will change: the default value of `keepdims` will become False, the `axis` over which the statistic is taken will be eliminated, and the value None will no longer be accepted. Set `keepdims` to True or False to avoid this warning.\n",
            "  y_arr.append(stats.mode(y_labels)[0][0])\n"
          ]
        },
        {
          "output_type": "stream",
          "name": "stdout",
          "text": [
            "[2, 4]\n",
            "Processing-- subject_002_04__x.csv -- subject_002_04__y.csv\n"
          ]
        },
        {
          "output_type": "stream",
          "name": "stderr",
          "text": [
            "<ipython-input-15-d61d2966bded>:9: FutureWarning: Unlike other reduction functions (e.g. `skew`, `kurtosis`), the default behavior of `mode` typically preserves the axis it acts along. In SciPy 1.11.0, this behavior will change: the default value of `keepdims` will become False, the `axis` over which the statistic is taken will be eliminated, and the value None will no longer be accepted. Set `keepdims` to True or False to avoid this warning.\n",
            "  y_arr.append(stats.mode(y_labels)[0][0])\n"
          ]
        },
        {
          "output_type": "stream",
          "name": "stdout",
          "text": [
            "[7, 4]\n",
            "Processing-- subject_007_04__x.csv -- subject_007_04__y.csv\n"
          ]
        },
        {
          "output_type": "stream",
          "name": "stderr",
          "text": [
            "<ipython-input-15-d61d2966bded>:9: FutureWarning: Unlike other reduction functions (e.g. `skew`, `kurtosis`), the default behavior of `mode` typically preserves the axis it acts along. In SciPy 1.11.0, this behavior will change: the default value of `keepdims` will become False, the `axis` over which the statistic is taken will be eliminated, and the value None will no longer be accepted. Set `keepdims` to True or False to avoid this warning.\n",
            "  y_arr.append(stats.mode(y_labels)[0][0])\n"
          ]
        },
        {
          "output_type": "stream",
          "name": "stdout",
          "text": [
            "[[1, 8], [2, 5]]\n",
            "0\n",
            "0\n",
            "[1, 8]\n",
            "Processing-- subject_001_08__x.csv -- subject_001_08__y.csv\n"
          ]
        },
        {
          "output_type": "stream",
          "name": "stderr",
          "text": [
            "<ipython-input-15-d61d2966bded>:9: FutureWarning: Unlike other reduction functions (e.g. `skew`, `kurtosis`), the default behavior of `mode` typically preserves the axis it acts along. In SciPy 1.11.0, this behavior will change: the default value of `keepdims` will become False, the `axis` over which the statistic is taken will be eliminated, and the value None will no longer be accepted. Set `keepdims` to True or False to avoid this warning.\n",
            "  y_arr.append(stats.mode(y_labels)[0][0])\n"
          ]
        },
        {
          "output_type": "stream",
          "name": "stdout",
          "text": [
            "[2, 5]\n",
            "Processing-- subject_002_05__x.csv -- subject_002_05__y.csv\n"
          ]
        },
        {
          "output_type": "stream",
          "name": "stderr",
          "text": [
            "<ipython-input-15-d61d2966bded>:9: FutureWarning: Unlike other reduction functions (e.g. `skew`, `kurtosis`), the default behavior of `mode` typically preserves the axis it acts along. In SciPy 1.11.0, this behavior will change: the default value of `keepdims` will become False, the `axis` over which the statistic is taken will be eliminated, and the value None will no longer be accepted. Set `keepdims` to True or False to avoid this warning.\n",
            "  y_arr.append(stats.mode(y_labels)[0][0])\n"
          ]
        }
      ]
    },
    {
      "cell_type": "code",
      "source": [
        "print(\"X-train Shape\",X_train.shape,\" Y-train Shape\",y_train.shape)\n",
        "print(\"X-val Shape\",X_val.shape,\" Y-val Shape\",y_val.shape)\n",
        "print(\"X-test Shape\",X_test.shape,\" Y-test Shape\",y_test.shape)"
      ],
      "metadata": {
        "colab": {
          "base_uri": "https://localhost:8080/"
        },
        "id": "bG4dPpruCkHr",
        "outputId": "ed4a930c-7933-422e-bcd9-44505c8b561d"
      },
      "execution_count": null,
      "outputs": [
        {
          "output_type": "stream",
          "name": "stdout",
          "text": [
            "X-train Shape (1109522, 30, 6)  Y-train Shape (1109522,)\n",
            "X-val Shape (122233, 30, 6)  Y-val Shape (122233,)\n",
            "X-test Shape (109021, 30, 6)  Y-test Shape (109021,)\n"
          ]
        }
      ]
    },
    {
      "cell_type": "code",
      "source": [
        "#Saving the dataframes\n",
        "np.save('X_train.npy', X_train)\n",
        "np.save('y_train.npy', y_train)\n",
        "np.save('X_val.npy', X_val)\n",
        "np.save('y_val.npy', y_val)\n",
        "np.save('X_test.npy', X_test)\n",
        "np.save('y_test.npy', y_test)\n"
      ],
      "metadata": {
        "id": "WGbXhvQXMw0U"
      },
      "execution_count": null,
      "outputs": []
    },
    {
      "cell_type": "code",
      "source": [
        "X.shape"
      ],
      "metadata": {
        "id": "y7VjdvlbQkQT"
      },
      "execution_count": null,
      "outputs": []
    },
    {
      "cell_type": "code",
      "source": [
        "y.shape"
      ],
      "metadata": {
        "id": "0YL8U5wYQlFa"
      },
      "execution_count": null,
      "outputs": []
    },
    {
      "cell_type": "code",
      "source": [
        "X_train=np.load(\"X_train.npy\")\n",
        "y_train=np.load(\"y_train.npy\")\n",
        "X_val=np.load(\"X_val.npy\")\n",
        "y_val=np.load(\"y_val.npy\")\n",
        "X_test=np.load(\"X_test.npy\")\n",
        "y_test=np.load(\"y_test.npy\")"
      ],
      "metadata": {
        "id": "kx4aigNsQnUz"
      },
      "execution_count": null,
      "outputs": []
    },
    {
      "cell_type": "code",
      "source": [
        "print(\"X-train Shape\",X_train.shape,\" Y-train Shape\",y_train.shape)\n",
        "print(\"X-val Shape\",X_val.shape,\" Y-val Shape\",y_val.shape)\n",
        "print(\"X-test Shape\",X_test.shape,\" Y-test Shape\",y_test.shape)"
      ],
      "metadata": {
        "colab": {
          "base_uri": "https://localhost:8080/"
        },
        "id": "ssK-CFvp0nI_",
        "outputId": "15d8fbe3-313b-45b3-89cd-e1ba9f6811b9"
      },
      "execution_count": null,
      "outputs": [
        {
          "output_type": "stream",
          "name": "stdout",
          "text": [
            "X-train Shape (1109522, 30, 6)  Y-train Shape (1109522,)\n",
            "X-val Shape (122233, 30, 6)  Y-val Shape (122233,)\n",
            "X-test Shape (109021, 30, 6)  Y-test Shape (109021,)\n"
          ]
        }
      ]
    },
    {
      "cell_type": "code",
      "source": [
        "y_train"
      ],
      "metadata": {
        "colab": {
          "base_uri": "https://localhost:8080/"
        },
        "id": "1Lmy7-nI1SQ6",
        "outputId": "4c0da858-7c71-4e28-cfc0-b8af7186b47a"
      },
      "execution_count": null,
      "outputs": [
        {
          "output_type": "execute_result",
          "data": {
            "text/plain": [
              "array([0., 0., 0., ..., 0., 0., 0.])"
            ]
          },
          "metadata": {},
          "execution_count": 20
        }
      ]
    },
    {
      "cell_type": "code",
      "source": [
        "'''\n",
        "Visualizing the data distribution\n",
        "'''\n",
        "unique_values = np.unique(y_test)\n",
        "\n",
        "# Count the frequency of each value in the array\n",
        "print(unique_values)\n",
        "value_counts = [np.count_nonzero(y_test == value) for value in unique_values]\n",
        "print(value_counts)\n",
        "plt.bar(unique_values,value_counts)"
      ],
      "metadata": {
        "colab": {
          "base_uri": "https://localhost:8080/",
          "height": 482
        },
        "id": "TgYOal490ofH",
        "outputId": "5cd29bf4-08a7-40bc-b0f9-278da0e15083"
      },
      "execution_count": null,
      "outputs": [
        {
          "output_type": "stream",
          "name": "stdout",
          "text": [
            "[0 1 2 3]\n",
            "[62711, 3889, 4216, 38205]\n"
          ]
        },
        {
          "output_type": "execute_result",
          "data": {
            "text/plain": [
              "<BarContainer object of 4 artists>"
            ]
          },
          "metadata": {},
          "execution_count": 21
        },
        {
          "output_type": "display_data",
          "data": {
            "text/plain": [
              "<Figure size 640x480 with 1 Axes>"
            ],
            "image/png": "[encoded data removed]"
          },
          "metadata": {}
        }
      ]
    },
    {
      "cell_type": "code",
      "source": [
        "#setting class weights:\n",
        "unique_values = np.unique(y_train)\n",
        "\n",
        "# Count the frequency of each value in the array\n",
        "print(unique_values)\n",
        "value_counts = [np.count_nonzero(y_train == value) for value in unique_values]\n",
        "class_weights={}\n",
        "for i in range(len(unique_values)):\n",
        "  weight=len(y_train)/(4*value_counts[i])\n",
        "  class_weights[unique_values[i]]=weight"
      ],
      "metadata": {
        "colab": {
          "base_uri": "https://localhost:8080/"
        },
        "id": "vDMLL1QY9y7a",
        "outputId": "e6cfb005-ee66-4a9c-c5a2-3c33d40b7010"
      },
      "execution_count": null,
      "outputs": [
        {
          "output_type": "stream",
          "name": "stdout",
          "text": [
            "[0. 1. 2. 3.]\n"
          ]
        }
      ]
    },
    {
      "cell_type": "code",
      "source": [
        "class_weights"
      ],
      "metadata": {
        "colab": {
          "base_uri": "https://localhost:8080/"
        },
        "id": "DngiPPc2-yqh",
        "outputId": "85460285-5409-4879-c9c3-98df844e3bd2"
      },
      "execution_count": null,
      "outputs": [
        {
          "output_type": "execute_result",
          "data": {
            "text/plain": [
              "{0.0: 0.32716523359635774,\n",
              " 1.0: 5.725914992878228,\n",
              " 2.0: 4.384838521000964,\n",
              " 3.0: 1.849326621774785}"
            ]
          },
          "metadata": {},
          "execution_count": 23
        }
      ]
    },
    {
      "cell_type": "code",
      "source": [
        "print(sum(value_counts),len(y_train))"
      ],
      "metadata": {
        "colab": {
          "base_uri": "https://localhost:8080/"
        },
        "id": "3XhuiimR99MP",
        "outputId": "388eb52c-5e14-4a9b-d838-cea1bed4a76a"
      },
      "execution_count": null,
      "outputs": [
        {
          "output_type": "stream",
          "name": "stdout",
          "text": [
            "1109522 1109522\n"
          ]
        }
      ]
    },
    {
      "cell_type": "code",
      "source": [
        "y_train = tf.keras.utils.to_categorical(y_train)\n",
        "y_val = tf.keras.utils.to_categorical(y_val)\n",
        "# y_test = tf.keras.utils.to_categorical(y_test)"
      ],
      "metadata": {
        "id": "pBlNOOnX09T-"
      },
      "execution_count": null,
      "outputs": []
    },
    {
      "cell_type": "code",
      "source": [
        "sc=StandardScaler()\n",
        "X_2d = X_train.reshape((-1, 6))\n",
        "print(X_2d.shape)\n",
        "sc.fit(X_2d)"
      ],
      "metadata": {
        "colab": {
          "base_uri": "https://localhost:8080/",
          "height": 91
        },
        "id": "ZIqdqKzR32JB",
        "outputId": "f3d6c7f7-f98d-4d76-b996-4ffeab6b7995"
      },
      "execution_count": null,
      "outputs": [
        {
          "output_type": "stream",
          "name": "stdout",
          "text": [
            "(33285660, 6)\n"
          ]
        },
        {
          "output_type": "execute_result",
          "data": {
            "text/plain": [
              "StandardScaler()"
            ],
            "text/html": [
              "<style>#sk-container-id-1 {color: black;background-color: white;}#sk-container-id-1 pre{padding: 0;}#sk-container-id-1 div.sk-toggleable {background-color: white;}#sk-container-id-1 label.sk-toggleable__label {cursor: pointer;display: block;width: 100%;margin-bottom: 0;padding: 0.3em;box-sizing: border-box;text-align: center;}#sk-container-id-1 label.sk-toggleable__label-arrow:before {content: \"▸\";float: left;margin-right: 0.25em;color: #696969;}#sk-container-id-1 label.sk-toggleable__label-arrow:hover:before {color: black;}#sk-container-id-1 div.sk-estimator:hover label.sk-toggleable__label-arrow:before {color: black;}#sk-container-id-1 div.sk-toggleable__content {max-height: 0;max-width: 0;overflow: hidden;text-align: left;background-color: #f0f8ff;}#sk-container-id-1 div.sk-toggleable__content pre {margin: 0.2em;color: black;border-radius: 0.25em;background-color: #f0f8ff;}#sk-container-id-1 input.sk-toggleable__control:checked~div.sk-toggleable__content {max-height: 200px;max-width: 100%;overflow: auto;}#sk-container-id-1 input.sk-toggleable__control:checked~label.sk-toggleable__label-arrow:before {content: \"▾\";}#sk-container-id-1 div.sk-estimator input.sk-toggleable__control:checked~label.sk-toggleable__label {background-color: #d4ebff;}#sk-container-id-1 div.sk-label input.sk-toggleable__control:checked~label.sk-toggleable__label {background-color: #d4ebff;}#sk-container-id-1 input.sk-hidden--visually {border: 0;clip: rect(1px 1px 1px 1px);clip: rect(1px, 1px, 1px, 1px);height: 1px;margin: -1px;overflow: hidden;padding: 0;position: absolute;width: 1px;}#sk-container-id-1 div.sk-estimator {font-family: monospace;background-color: #f0f8ff;border: 1px dotted black;border-radius: 0.25em;box-sizing: border-box;margin-bottom: 0.5em;}#sk-container-id-1 div.sk-estimator:hover {background-color: #d4ebff;}#sk-container-id-1 div.sk-parallel-item::after {content: \"\";width: 100%;border-bottom: 1px solid gray;flex-grow: 1;}#sk-container-id-1 div.sk-label:hover label.sk-toggleable__label {background-color: #d4ebff;}#sk-container-id-1 div.sk-serial::before {content: \"\";position: absolute;border-left: 1px solid gray;box-sizing: border-box;top: 0;bottom: 0;left: 50%;z-index: 0;}#sk-container-id-1 div.sk-serial {display: flex;flex-direction: column;align-items: center;background-color: white;padding-right: 0.2em;padding-left: 0.2em;position: relative;}#sk-container-id-1 div.sk-item {position: relative;z-index: 1;}#sk-container-id-1 div.sk-parallel {display: flex;align-items: stretch;justify-content: center;background-color: white;position: relative;}#sk-container-id-1 div.sk-item::before, #sk-container-id-1 div.sk-parallel-item::before {content: \"\";position: absolute;border-left: 1px solid gray;box-sizing: border-box;top: 0;bottom: 0;left: 50%;z-index: -1;}#sk-container-id-1 div.sk-parallel-item {display: flex;flex-direction: column;z-index: 1;position: relative;background-color: white;}#sk-container-id-1 div.sk-parallel-item:first-child::after {align-self: flex-end;width: 50%;}#sk-container-id-1 div.sk-parallel-item:last-child::after {align-self: flex-start;width: 50%;}#sk-container-id-1 div.sk-parallel-item:only-child::after {width: 0;}#sk-container-id-1 div.sk-dashed-wrapped {border: 1px dashed gray;margin: 0 0.4em 0.5em 0.4em;box-sizing: border-box;padding-bottom: 0.4em;background-color: white;}#sk-container-id-1 div.sk-label label {font-family: monospace;font-weight: bold;display: inline-block;line-height: 1.2em;}#sk-container-id-1 div.sk-label-container {text-align: center;}#sk-container-id-1 div.sk-container {/* jupyter's `normalize.less` sets `[hidden] { display: none; }` but bootstrap.min.css set `[hidden] { display: none !important; }` so we also need the `!important` here to be able to override the default hidden behavior on the sphinx rendered scikit-learn.org. See: https://github.com/scikit-learn/scikit-learn/issues/21755 */display: inline-block !important;position: relative;}#sk-container-id-1 div.sk-text-repr-fallback {display: none;}</style><div id=\"sk-container-id-1\" class=\"sk-top-container\"><div class=\"sk-text-repr-fallback\"><pre>StandardScaler()</pre><b>In a Jupyter environment, please rerun this cell to show the HTML representation or trust the notebook. <br />On GitHub, the HTML representation is unable to render, please try loading this page with nbviewer.org.</b></div><div class=\"sk-container\" hidden><div class=\"sk-item\"><div class=\"sk-estimator sk-toggleable\"><input class=\"sk-toggleable__control sk-hidden--visually\" id=\"sk-estimator-id-1\" type=\"checkbox\" checked><label for=\"sk-estimator-id-1\" class=\"sk-toggleable__label sk-toggleable__label-arrow\">StandardScaler</label><div class=\"sk-toggleable__content\"><pre>StandardScaler()</pre></div></div></div></div></div>"
            ]
          },
          "metadata": {},
          "execution_count": 26
        }
      ]
    },
    {
      "cell_type": "code",
      "source": [
        "X_train_scaled=sc.transform(X_train.reshape((-1,6)))\n",
        "X_train_3d=X_train_scaled.reshape(X_train.shape[0],X_train.shape[1],X_train.shape[2])"
      ],
      "metadata": {
        "id": "BdWcuqip4BY3"
      },
      "execution_count": null,
      "outputs": []
    },
    {
      "cell_type": "code",
      "source": [
        "X_val_scaled=sc.transform(X_val.reshape((-1,6)))\n",
        "X_val_3d=X_val_scaled.reshape(X_val.shape[0],X_val.shape[1],X_val.shape[2])"
      ],
      "metadata": {
        "id": "6chxB4Dp46vX"
      },
      "execution_count": null,
      "outputs": []
    },
    {
      "cell_type": "code",
      "source": [
        "X_test_scaled=sc.transform(X_test.reshape((-1,6)))\n",
        "X_test_3d=X_test_scaled.reshape(X_test.shape[0],X_test.shape[1],X_test.shape[2])"
      ],
      "metadata": {
        "id": "hW1pjvBA5J1x"
      },
      "execution_count": null,
      "outputs": []
    },
    {
      "cell_type": "code",
      "source": [
        "print(\"X-train Shape\",X_train_3d.shape,\" Y-train Shape\",y_train.shape)\n",
        "print(\"X-val Shape\",X_val_3d.shape,\" Y-val Shape\",y_val.shape)\n",
        "print(\"X-test Shape\",X_test_3d.shape,\" Y-test Shape\",y_test.shape)"
      ],
      "metadata": {
        "colab": {
          "base_uri": "https://localhost:8080/"
        },
        "id": "YxvuI-LP5qfa",
        "outputId": "bec41439-0745-4098-814c-0fed0d6e83c7"
      },
      "execution_count": null,
      "outputs": [
        {
          "output_type": "stream",
          "name": "stdout",
          "text": [
            "X-train Shape (1109522, 30, 6)  Y-train Shape (1109522, 4)\n",
            "X-val Shape (122233, 30, 6)  Y-val Shape (122233, 4)\n",
            "X-test Shape (109021, 30, 6)  Y-test Shape (109021,)\n"
          ]
        }
      ]
    },
    {
      "cell_type": "code",
      "source": [
        "from keras.models import Sequential\n",
        "from keras.layers import Dense, Bidirectional, LSTM, Dropout"
      ],
      "metadata": {
        "id": "3Pa9W_do55sJ"
      },
      "execution_count": null,
      "outputs": []
    },
    {
      "cell_type": "code",
      "source": [
        "tf.config.list_physical_devices('GPU')"
      ],
      "metadata": {
        "colab": {
          "base_uri": "https://localhost:8080/"
        },
        "id": "efjqGKQCBMsT",
        "outputId": "75fe89dd-6113-4768-9736-b91c83a70419"
      },
      "execution_count": null,
      "outputs": [
        {
          "output_type": "execute_result",
          "data": {
            "text/plain": [
              "[PhysicalDevice(name='/physical_device:GPU:0', device_type='GPU')]"
            ]
          },
          "metadata": {},
          "execution_count": 38
        }
      ]
    },
    {
      "cell_type": "code",
      "source": [
        "input_shape=(window_size,6)"
      ],
      "metadata": {
        "id": "9MknElJg6X4b"
      },
      "execution_count": null,
      "outputs": []
    },
    {
      "cell_type": "code",
      "source": [
        "def get_model(input_shape,dropout):\n",
        "  model=Sequential()\n",
        "  model.add(Bidirectional(LSTM(128,input_shape=input_shape,return_sequences=True)))\n",
        "  model.add(Dropout(dropout))\n",
        "  model.add(Bidirectional(LSTM(64)))\n",
        "  model.add(Dropout(dropout))\n",
        "  model.add(Dense(32))\n",
        "  model.add(Dense(16))\n",
        "  model.add(Dense(4,activation='softmax'))\n",
        "  return model"
      ],
      "metadata": {
        "id": "5tAM72xX5vX2"
      },
      "execution_count": null,
      "outputs": []
    },
    {
      "cell_type": "code",
      "source": [
        "models=[]\n",
        "dropouts=[0.5,0.8]\n",
        "lrs=[0.01,0.1,0.001]"
      ],
      "metadata": {
        "id": "ap7rwKF0QC7E"
      },
      "execution_count": null,
      "outputs": []
    },
    {
      "cell_type": "code",
      "source": [
        "from sklearn.metrics import f1_score,classification_report,confusion_matrix"
      ],
      "metadata": {
        "id": "WUQS4Ap8RNU6"
      },
      "execution_count": null,
      "outputs": []
    },
    {
      "cell_type": "code",
      "source": [
        "#Tuning hyperparameters\n",
        "for dropout in dropouts:\n",
        "  for lr in lrs:\n",
        "    model=get_model(input_shape,dropout)\n",
        "    optimizer = tf.keras.optimizers.Adam(lr=lr)\n",
        "    model.compile(loss='categorical_crossentropy',\n",
        "              optimizer=optimizer,\n",
        "              metrics=['accuracy',tf.keras.metrics.Precision(), tf.keras.metrics.Recall()])\n",
        "    # model.summary()\n",
        "    history=model.fit(X_train_3d,y_train,validation_data=(X_val_3d,y_val),epochs=10,shuffle=True,class_weight=class_weights,batch_size=128,verbose=1)\n",
        "    y_predict=model.predict(X_test_3d)\n",
        "    test_f1=f1_score(y_test,np.argmax(y_predict,axis=1),average='macro')\n",
        "    models.append({'model':model,'history':history,'test_f1':test_f1,'dropout':dropout,'lr':lr})"
      ],
      "metadata": {
        "id": "W_qhcALQQzMi"
      },
      "execution_count": null,
      "outputs": []
    },
    {
      "cell_type": "code",
      "source": [
        "model=get_model(input_shape,0.5)"
      ],
      "metadata": {
        "id": "fK8LCbyN67CL"
      },
      "execution_count": null,
      "outputs": []
    },
    {
      "cell_type": "code",
      "source": [
        "optimizer = tf.keras.optimizers.Adam(lr=0.01)"
      ],
      "metadata": {
        "colab": {
          "base_uri": "https://localhost:8080/"
        },
        "id": "vRkZyXSuJ_c8",
        "outputId": "314cc9de-fc50-4b2e-c273-e0703e2074ee"
      },
      "execution_count": null,
      "outputs": [
        {
          "output_type": "stream",
          "name": "stderr",
          "text": [
            "WARNING:absl:`lr` is deprecated in Keras optimizer, please use `learning_rate` or use the legacy optimizer, e.g.,tf.keras.optimizers.legacy.Adam.\n"
          ]
        }
      ]
    },
    {
      "cell_type": "code",
      "source": [
        "model.compile(loss='categorical_crossentropy',\n",
        "              optimizer=optimizer,\n",
        "              metrics=['accuracy',tf.keras.metrics.Precision(), tf.keras.metrics.Recall()])"
      ],
      "metadata": {
        "id": "w_Oaz4YR6-mJ"
      },
      "execution_count": null,
      "outputs": []
    },
    {
      "cell_type": "code",
      "source": [
        "model.summary()"
      ],
      "metadata": {
        "colab": {
          "base_uri": "https://localhost:8080/"
        },
        "id": "FX6H1aiP7Jo1",
        "outputId": "8151699f-b5f7-4f19-b897-4170f0dbf31d"
      },
      "execution_count": null,
      "outputs": [
        {
          "output_type": "stream",
          "name": "stdout",
          "text": [
            "Model: \"sequential\"\n",
            "_________________________________________________________________\n",
            " Layer (type)                Output Shape              Param #   \n",
            "=================================================================\n",
            " lstm (LSTM)                 (None, 30, 128)           69120     \n",
            "                                                                 \n",
            " dropout (Dropout)           (None, 30, 128)           0         \n",
            "                                                                 \n",
            " lstm_1 (LSTM)               (None, 64)                49408     \n",
            "                                                                 \n",
            " dropout_1 (Dropout)         (None, 64)                0         \n",
            "                                                                 \n",
            " dense (Dense)               (None, 32)                2080      \n",
            "                                                                 \n",
            " dense_1 (Dense)             (None, 16)                528       \n",
            "                                                                 \n",
            " dense_2 (Dense)             (None, 4)                 68        \n",
            "                                                                 \n",
            "=================================================================\n",
            "Total params: 121,204\n",
            "Trainable params: 121,204\n",
            "Non-trainable params: 0\n",
            "_________________________________________________________________\n"
          ]
        }
      ]
    },
    {
      "cell_type": "code",
      "source": [
        "history=model.fit(X_train_3d,y_train,validation_data=(X_val_3d,y_val),epochs=10,shuffle=True,class_weight=class_weights,batch_size=128,verbose=1)"
      ],
      "metadata": {
        "colab": {
          "base_uri": "https://localhost:8080/"
        },
        "id": "NLZtwYMc7Kwq",
        "outputId": "1043ad91-20a8-41cf-8a91-68d7cb090564"
      },
      "execution_count": null,
      "outputs": [
        {
          "output_type": "stream",
          "name": "stdout",
          "text": [
            "Epoch 1/10\n",
            "8669/8669 [==============================] - 99s 10ms/step - loss: 0.2375 - accuracy: 0.8672 - precision: 0.8785 - recall: 0.8533 - val_loss: 0.3166 - val_accuracy: 0.8893 - val_precision: 0.8911 - val_recall: 0.8870\n",
            "Epoch 2/10\n",
            "8669/8669 [==============================] - 85s 10ms/step - loss: 0.1191 - accuracy: 0.9292 - precision: 0.9322 - recall: 0.9254 - val_loss: 0.2818 - val_accuracy: 0.9135 - val_precision: 0.9145 - val_recall: 0.9125\n",
            "Epoch 3/10\n",
            "8669/8669 [==============================] - 86s 10ms/step - loss: 0.0834 - accuracy: 0.9476 - precision: 0.9490 - recall: 0.9458 - val_loss: 0.2463 - val_accuracy: 0.9278 - val_precision: 0.9287 - val_recall: 0.9268\n",
            "Epoch 4/10\n",
            "8669/8669 [==============================] - 82s 9ms/step - loss: 0.0641 - accuracy: 0.9585 - precision: 0.9595 - recall: 0.9575 - val_loss: 0.2760 - val_accuracy: 0.9269 - val_precision: 0.9275 - val_recall: 0.9263\n",
            "Epoch 5/10\n",
            "8669/8669 [==============================] - 81s 9ms/step - loss: 0.0518 - accuracy: 0.9669 - precision: 0.9674 - recall: 0.9663 - val_loss: 0.2679 - val_accuracy: 0.9348 - val_precision: 0.9352 - val_recall: 0.9344\n",
            "Epoch 6/10\n",
            "8669/8669 [==============================] - 81s 9ms/step - loss: 0.0436 - accuracy: 0.9722 - precision: 0.9726 - recall: 0.9716 - val_loss: 0.2978 - val_accuracy: 0.9264 - val_precision: 0.9266 - val_recall: 0.9263\n",
            "Epoch 7/10\n",
            "8669/8669 [==============================] - 83s 10ms/step - loss: 0.0379 - accuracy: 0.9762 - precision: 0.9765 - recall: 0.9758 - val_loss: 0.2918 - val_accuracy: 0.9305 - val_precision: 0.9307 - val_recall: 0.9303\n",
            "Epoch 8/10\n",
            "8669/8669 [==============================] - 85s 10ms/step - loss: 0.0335 - accuracy: 0.9789 - precision: 0.9792 - recall: 0.9786 - val_loss: 0.2996 - val_accuracy: 0.9321 - val_precision: 0.9323 - val_recall: 0.9318\n",
            "Epoch 9/10\n",
            "8669/8669 [==============================] - 82s 9ms/step - loss: 0.0298 - accuracy: 0.9813 - precision: 0.9816 - recall: 0.9810 - val_loss: 0.3223 - val_accuracy: 0.9413 - val_precision: 0.9415 - val_recall: 0.9411\n",
            "Epoch 10/10\n",
            "8669/8669 [==============================] - 82s 9ms/step - loss: 0.0275 - accuracy: 0.9827 - precision: 0.9829 - recall: 0.9824 - val_loss: 0.3249 - val_accuracy: 0.9365 - val_precision: 0.9366 - val_recall: 0.9363\n"
          ]
        }
      ]
    },
    {
      "cell_type": "code",
      "source": [],
      "metadata": {
        "id": "ONIY79OgE3sY"
      },
      "execution_count": null,
      "outputs": []
    },
    {
      "cell_type": "code",
      "source": [
        "model.save('/content/drive/My Drive/Neural Networks/Project C3/final_models')"
      ],
      "metadata": {
        "colab": {
          "base_uri": "https://localhost:8080/"
        },
        "id": "dYHvTgB3_j0t",
        "outputId": "3a37a4a2-d6ed-40ea-96ff-433f15537353"
      },
      "execution_count": null,
      "outputs": [
        {
          "output_type": "stream",
          "name": "stderr",
          "text": [
            "WARNING:absl:Found untraced functions such as lstm_cell_layer_call_fn, lstm_cell_layer_call_and_return_conditional_losses, lstm_cell_1_layer_call_fn, lstm_cell_1_layer_call_and_return_conditional_losses while saving (showing 4 of 4). These functions will not be directly callable after loading.\n"
          ]
        }
      ]
    },
    {
      "cell_type": "code",
      "source": [
        "from sklearn.metrics import f1_score,classification_report,confusion_matrix"
      ],
      "metadata": {
        "id": "LqvkFNYWEopl"
      },
      "execution_count": null,
      "outputs": []
    },
    {
      "cell_type": "code",
      "source": [
        "y_predict=model.predict(X_test_3d)"
      ],
      "metadata": {
        "colab": {
          "base_uri": "https://localhost:8080/"
        },
        "id": "PQOig7OWFI9O",
        "outputId": "1225e9b3-88c5-42cc-9019-33bd183483e4"
      },
      "execution_count": null,
      "outputs": [
        {
          "output_type": "stream",
          "name": "stdout",
          "text": [
            "3407/3407 [==============================] - 16s 4ms/step\n"
          ]
        }
      ]
    },
    {
      "cell_type": "code",
      "source": [
        "np.argmax(y_predict,axis=1)"
      ],
      "metadata": {
        "colab": {
          "base_uri": "https://localhost:8080/"
        },
        "id": "lHIpvB_ZFdiB",
        "outputId": "27ab860b-57e3-484a-867f-21b67c35f7cf"
      },
      "execution_count": null,
      "outputs": [
        {
          "output_type": "execute_result",
          "data": {
            "text/plain": [
              "array([0, 0, 0, ..., 0, 0, 0])"
            ]
          },
          "metadata": {},
          "execution_count": 54
        }
      ]
    },
    {
      "cell_type": "code",
      "source": [
        "f1_score(np.load(\"y_test.npy\"),np.argmax(y_predict,axis=1),average='macro')"
      ],
      "metadata": {
        "colab": {
          "base_uri": "https://localhost:8080/"
        },
        "id": "6UZDacOdFVTK",
        "outputId": "fd9594f9-d773-4db0-ac7a-ec1bbc7d8c79"
      },
      "execution_count": null,
      "outputs": [
        {
          "output_type": "execute_result",
          "data": {
            "text/plain": [
              "0.7284736503465933"
            ]
          },
          "metadata": {},
          "execution_count": 55
        }
      ]
    },
    {
      "cell_type": "code",
      "source": [
        "print(classification_report(np.load(\"y_test.npy\"),np.argmax(y_predict,axis=1)))"
      ],
      "metadata": {
        "colab": {
          "base_uri": "https://localhost:8080/"
        },
        "id": "9zOyXJURFbrt",
        "outputId": "9e1c0e13-de8f-4125-aeeb-9ef835fc7227"
      },
      "execution_count": null,
      "outputs": [
        {
          "output_type": "stream",
          "name": "stdout",
          "text": [
            "              precision    recall  f1-score   support\n",
            "\n",
            "           0       0.68      0.94      0.79     62711\n",
            "           1       0.78      0.73      0.75      3889\n",
            "           2       0.92      0.96      0.94      4216\n",
            "           3       0.77      0.30      0.43     38205\n",
            "\n",
            "    accuracy                           0.71    109021\n",
            "   macro avg       0.79      0.73      0.73    109021\n",
            "weighted avg       0.73      0.71      0.67    109021\n",
            "\n"
          ]
        }
      ]
    },
    {
      "cell_type": "code",
      "source": [
        "loaded_model = tf.keras.models.load_model('/content/drive/My Drive/Neural_Networks/ProjectC3/final_models')"
      ],
      "metadata": {
        "id": "g07f4NkrF6JT"
      },
      "execution_count": null,
      "outputs": []
    },
    {
      "cell_type": "code",
      "source": [
        "loaded_model.summary()"
      ],
      "metadata": {
        "id": "HlIdCNWExncj"
      },
      "execution_count": null,
      "outputs": []
    },
    {
      "cell_type": "code",
      "source": [
        "os.chdir('/content/drive/My Drive/Neural_Networks/ProjectC3/TestData')"
      ],
      "metadata": {
        "id": "IeZJGMeTo1Oo"
      },
      "execution_count": null,
      "outputs": []
    },
    {
      "cell_type": "code",
      "source": [
        "prediction_files=[['09',1],['10',1],['11',1],['12',1]]"
      ],
      "metadata": {
        "id": "9qvB8-PLobW4"
      },
      "execution_count": null,
      "outputs": []
    },
    {
      "cell_type": "code",
      "source": [
        "'''\n",
        "Creates the Prediction Data\n",
        "\n",
        "'''\n",
        "def makePredictionData(XFile,XTimeStampFile,YTimeStampFile):\n",
        "  df_x=pd.read_csv(XFile,header=None,names=['acc.x','acc.y','acc.z','gyr.x','gyr.y','gyr.z'])\n",
        "  df_x_time=pd.read_csv(XTimeStampFile,header=None,names=['timestamp'])\n",
        "  df_x=df_x.join(df_x_time)\n",
        "  df_y_time=pd.read_csv(YTimeStampFile,header=None,names=['timestamp'])\n",
        "  addl_rows=df_y_time.shape[0] * 4 - df_x.shape[0] + window_size\n",
        "  addl_df=df_x.iloc[-addl_rows:,]\n",
        "  df_x=df_x.append(addl_df)\n",
        "  x_feat=df_x.iloc[:,:6]\n",
        "  X_arr=[]\n",
        "  for i in range(len(df_x)-window_size):\n",
        "    x_values=x_feat.iloc[i:i+window_size,:].values\n",
        "    # y_labels=merged_df.iloc[i:i+window_size,-2].values\n",
        "    # print(x_values)\n",
        "    # print(y_labels)\n",
        "    X_arr.append(x_values)\n",
        "    # y_arr.append(stats.mode(y_labels)[0][0])\n",
        "\n",
        "  #filtered_values = value_counts[value_counts < 4].index\n",
        "  #print(len(filtered_values))\n",
        "  return np.array(X_arr)"
      ],
      "metadata": {
        "id": "U38dg3WCpCVa"
      },
      "execution_count": null,
      "outputs": []
    },
    {
      "cell_type": "code",
      "source": [
        "'''\n",
        "Creates the prediciton file\n",
        "\n",
        "'''\n",
        "def createPredictionFile(file):\n",
        "  XFile='subject_0'+str(file[0])+'_0'+str(file[1])+'__x.csv'\n",
        "  XTimestampFile='subject_0'+str(file[0])+'_0'+str(file[1])+'__x_time.csv'\n",
        "  # YFile='subject_00'+str(file[0])+'_0'+str(file[1])+'__y.csv'\n",
        "  YTimestampFile='subject_0'+str(file[0])+'_0'+str(file[1])+'__y_time.csv'\n",
        "  print(\"Processing--Subject \",file[0],\" Session \",file[1])\n",
        "  X_arr=makePredictionData(XFile=XFile,XTimeStampFile=XTimestampFile,YTimeStampFile=YTimestampFile)\n",
        "  print(X_arr.shape)\n",
        "  X_arr_scaled=sc.transform(X_arr.reshape((-1,6)))\n",
        "  X_arr_3d=X_arr_scaled.reshape(X_arr.shape[0],X_arr.shape[1],X_arr.shape[2])\n",
        "  y_predict=loaded_model.predict(X_arr_3d)\n",
        "  Y=np.argmax(y_predict,axis=1)\n",
        "  # prev=len(X_arr)\n",
        "  Y_Predictions=[]\n",
        "  for i in range(0,Y.shape[0],4):\n",
        "    Y_Predictions.append(stats.mode(Y[i:i+4])[0][0])\n",
        "  # assert len(Y_Predictions)==len(YTimestampFile)\n",
        "  predict_dataframe = pd.DataFrame(Y_Predictions, columns=['Y'])\n",
        "  predict_dataframe.to_csv('/content/drive/My Drive/Neural_Networks/ProjectC3/TestData/Predictions/'+'subject_0'+str(file[0])+'_0'+str(file[1])+'__predictions.csv', index=False)\n",
        "  \n",
        "  "
      ],
      "metadata": {
        "id": "uY1N8PLEoiCY"
      },
      "execution_count": null,
      "outputs": []
    },
    {
      "cell_type": "code",
      "source": [
        "for file in prediction_files:\n",
        "  createPredictionFile(file)"
      ],
      "metadata": {
        "id": "A_BlSG9Ux7uJ"
      },
      "execution_count": null,
      "outputs": []
    },
    {
      "cell_type": "code",
      "source": [
        "df=pd.read_csv('/content/drive/My Drive/Neural_Networks/ProjectC3/TestData/Predictions/'+'subject_011'+'_01__predictions'+'.csv')\n",
        "df['Y'].value_counts()"
      ],
      "metadata": {
        "id": "s2oR5kFPyF8d"
      },
      "execution_count": null,
      "outputs": []
    },
    {
      "cell_type": "code",
      "source": [],
      "metadata": {
        "id": "6sxJCpIO0YrR"
      },
      "execution_count": null,
      "outputs": []
    }
  ]
}